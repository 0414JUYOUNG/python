{
  "nbformat": 4,
  "nbformat_minor": 0,
  "metadata": {
    "colab": {
      "name": "머신러닝_k최근접이웃알고리즘_강의.ipynb",
      "provenance": [],
      "collapsed_sections": [],
      "authorship_tag": "ABX9TyOIoyNigbo1e1ftxL1qO63z",
      "include_colab_link": true
    },
    "kernelspec": {
      "name": "python3",
      "display_name": "Python 3"
    },
    "language_info": {
      "name": "python"
    }
  },
  "cells": [
    {
      "cell_type": "markdown",
      "metadata": {
        "id": "view-in-github",
        "colab_type": "text"
      },
      "source": [
        "<a href=\"https://colab.research.google.com/github/0414JUYOUNG/python/blob/main/%EB%A8%B8%EC%8B%A0%EB%9F%AC%EB%8B%9D_k%EC%B5%9C%EA%B7%BC%EC%A0%91%EC%9D%B4%EC%9B%83%EC%95%8C%EA%B3%A0%EB%A6%AC%EC%A6%98_%EA%B0%95%EC%9D%98.ipynb\" target=\"_parent\"><img src=\"https://colab.research.google.com/assets/colab-badge.svg\" alt=\"Open In Colab\"/></a>"
      ]
    },
    {
      "cell_type": "code",
      "metadata": {
        "id": "WYsmSXfOIVHE"
      },
      "source": [
        "import pandas as pd\n",
        "import numpy as np"
      ],
      "execution_count": null,
      "outputs": []
    },
    {
      "cell_type": "code",
      "metadata": {
        "id": "hvZyEuQRMvMC"
      },
      "source": [
        "#붓꽃 데이터\n",
        "iris = pd.read_csv('https://bit.ly/3tjyEaw') #데이터 타입 = 데이터 프레임"
      ],
      "execution_count": null,
      "outputs": []
    },
    {
      "cell_type": "code",
      "metadata": {
        "colab": {
          "base_uri": "https://localhost:8080/",
          "height": 203
        },
        "id": "lLXwoc1jOMBq",
        "outputId": "41cbaeaa-1538-4d7d-8567-05f0a8c25b02"
      },
      "source": [
        "iris.head()"
      ],
      "execution_count": null,
      "outputs": [
        {
          "output_type": "execute_result",
          "data": {
            "text/html": [
              "<div>\n",
              "<style scoped>\n",
              "    .dataframe tbody tr th:only-of-type {\n",
              "        vertical-align: middle;\n",
              "    }\n",
              "\n",
              "    .dataframe tbody tr th {\n",
              "        vertical-align: top;\n",
              "    }\n",
              "\n",
              "    .dataframe thead th {\n",
              "        text-align: right;\n",
              "    }\n",
              "</style>\n",
              "<table border=\"1\" class=\"dataframe\">\n",
              "  <thead>\n",
              "    <tr style=\"text-align: right;\">\n",
              "      <th></th>\n",
              "      <th>caseno</th>\n",
              "      <th>SepalLength</th>\n",
              "      <th>SepalWidth</th>\n",
              "      <th>PetalLength</th>\n",
              "      <th>PetalWidth</th>\n",
              "      <th>Species</th>\n",
              "    </tr>\n",
              "  </thead>\n",
              "  <tbody>\n",
              "    <tr>\n",
              "      <th>0</th>\n",
              "      <td>1</td>\n",
              "      <td>5.1</td>\n",
              "      <td>3.5</td>\n",
              "      <td>1.4</td>\n",
              "      <td>0.2</td>\n",
              "      <td>setosa</td>\n",
              "    </tr>\n",
              "    <tr>\n",
              "      <th>1</th>\n",
              "      <td>2</td>\n",
              "      <td>4.9</td>\n",
              "      <td>3.0</td>\n",
              "      <td>1.4</td>\n",
              "      <td>0.2</td>\n",
              "      <td>setosa</td>\n",
              "    </tr>\n",
              "    <tr>\n",
              "      <th>2</th>\n",
              "      <td>3</td>\n",
              "      <td>4.7</td>\n",
              "      <td>3.2</td>\n",
              "      <td>1.3</td>\n",
              "      <td>0.2</td>\n",
              "      <td>setosa</td>\n",
              "    </tr>\n",
              "    <tr>\n",
              "      <th>3</th>\n",
              "      <td>4</td>\n",
              "      <td>4.6</td>\n",
              "      <td>3.1</td>\n",
              "      <td>1.5</td>\n",
              "      <td>0.2</td>\n",
              "      <td>setosa</td>\n",
              "    </tr>\n",
              "    <tr>\n",
              "      <th>4</th>\n",
              "      <td>5</td>\n",
              "      <td>5.0</td>\n",
              "      <td>3.6</td>\n",
              "      <td>1.4</td>\n",
              "      <td>0.2</td>\n",
              "      <td>setosa</td>\n",
              "    </tr>\n",
              "  </tbody>\n",
              "</table>\n",
              "</div>"
            ],
            "text/plain": [
              "   caseno  SepalLength  SepalWidth  PetalLength  PetalWidth Species\n",
              "0       1          5.1         3.5          1.4         0.2  setosa\n",
              "1       2          4.9         3.0          1.4         0.2  setosa\n",
              "2       3          4.7         3.2          1.3         0.2  setosa\n",
              "3       4          4.6         3.1          1.5         0.2  setosa\n",
              "4       5          5.0         3.6          1.4         0.2  setosa"
            ]
          },
          "metadata": {
            "tags": []
          },
          "execution_count": 23
        }
      ]
    },
    {
      "cell_type": "code",
      "metadata": {
        "colab": {
          "base_uri": "https://localhost:8080/",
          "height": 203
        },
        "id": "3owdITiKPORs",
        "outputId": "a49f90a6-b173-4cf4-eb9b-d0a7c97eafa7"
      },
      "source": [
        "iris.tail()"
      ],
      "execution_count": null,
      "outputs": [
        {
          "output_type": "execute_result",
          "data": {
            "text/html": [
              "<div>\n",
              "<style scoped>\n",
              "    .dataframe tbody tr th:only-of-type {\n",
              "        vertical-align: middle;\n",
              "    }\n",
              "\n",
              "    .dataframe tbody tr th {\n",
              "        vertical-align: top;\n",
              "    }\n",
              "\n",
              "    .dataframe thead th {\n",
              "        text-align: right;\n",
              "    }\n",
              "</style>\n",
              "<table border=\"1\" class=\"dataframe\">\n",
              "  <thead>\n",
              "    <tr style=\"text-align: right;\">\n",
              "      <th></th>\n",
              "      <th>caseno</th>\n",
              "      <th>SepalLength</th>\n",
              "      <th>SepalWidth</th>\n",
              "      <th>PetalLength</th>\n",
              "      <th>PetalWidth</th>\n",
              "      <th>Species</th>\n",
              "    </tr>\n",
              "  </thead>\n",
              "  <tbody>\n",
              "    <tr>\n",
              "      <th>145</th>\n",
              "      <td>146</td>\n",
              "      <td>6.7</td>\n",
              "      <td>3.0</td>\n",
              "      <td>5.2</td>\n",
              "      <td>2.3</td>\n",
              "      <td>virginica</td>\n",
              "    </tr>\n",
              "    <tr>\n",
              "      <th>146</th>\n",
              "      <td>147</td>\n",
              "      <td>6.3</td>\n",
              "      <td>2.5</td>\n",
              "      <td>5.0</td>\n",
              "      <td>1.9</td>\n",
              "      <td>virginica</td>\n",
              "    </tr>\n",
              "    <tr>\n",
              "      <th>147</th>\n",
              "      <td>148</td>\n",
              "      <td>6.5</td>\n",
              "      <td>3.0</td>\n",
              "      <td>5.2</td>\n",
              "      <td>2.0</td>\n",
              "      <td>virginica</td>\n",
              "    </tr>\n",
              "    <tr>\n",
              "      <th>148</th>\n",
              "      <td>149</td>\n",
              "      <td>6.2</td>\n",
              "      <td>3.4</td>\n",
              "      <td>5.4</td>\n",
              "      <td>2.3</td>\n",
              "      <td>virginica</td>\n",
              "    </tr>\n",
              "    <tr>\n",
              "      <th>149</th>\n",
              "      <td>150</td>\n",
              "      <td>5.9</td>\n",
              "      <td>3.0</td>\n",
              "      <td>5.1</td>\n",
              "      <td>1.8</td>\n",
              "      <td>virginica</td>\n",
              "    </tr>\n",
              "  </tbody>\n",
              "</table>\n",
              "</div>"
            ],
            "text/plain": [
              "     caseno  SepalLength  SepalWidth  PetalLength  PetalWidth    Species\n",
              "145     146          6.7         3.0          5.2         2.3  virginica\n",
              "146     147          6.3         2.5          5.0         1.9  virginica\n",
              "147     148          6.5         3.0          5.2         2.0  virginica\n",
              "148     149          6.2         3.4          5.4         2.3  virginica\n",
              "149     150          5.9         3.0          5.1         1.8  virginica"
            ]
          },
          "metadata": {
            "tags": []
          },
          "execution_count": 24
        }
      ]
    },
    {
      "cell_type": "code",
      "metadata": {
        "colab": {
          "base_uri": "https://localhost:8080/",
          "height": 295
        },
        "id": "vUtCJhFHPZEt",
        "outputId": "a76c507e-e7cf-4512-ec4a-4208b74c998f"
      },
      "source": [
        "iris.describe()"
      ],
      "execution_count": null,
      "outputs": [
        {
          "output_type": "execute_result",
          "data": {
            "text/html": [
              "<div>\n",
              "<style scoped>\n",
              "    .dataframe tbody tr th:only-of-type {\n",
              "        vertical-align: middle;\n",
              "    }\n",
              "\n",
              "    .dataframe tbody tr th {\n",
              "        vertical-align: top;\n",
              "    }\n",
              "\n",
              "    .dataframe thead th {\n",
              "        text-align: right;\n",
              "    }\n",
              "</style>\n",
              "<table border=\"1\" class=\"dataframe\">\n",
              "  <thead>\n",
              "    <tr style=\"text-align: right;\">\n",
              "      <th></th>\n",
              "      <th>caseno</th>\n",
              "      <th>SepalLength</th>\n",
              "      <th>SepalWidth</th>\n",
              "      <th>PetalLength</th>\n",
              "      <th>PetalWidth</th>\n",
              "    </tr>\n",
              "  </thead>\n",
              "  <tbody>\n",
              "    <tr>\n",
              "      <th>count</th>\n",
              "      <td>150.000000</td>\n",
              "      <td>150.000000</td>\n",
              "      <td>150.000000</td>\n",
              "      <td>150.000000</td>\n",
              "      <td>150.000000</td>\n",
              "    </tr>\n",
              "    <tr>\n",
              "      <th>mean</th>\n",
              "      <td>75.500000</td>\n",
              "      <td>5.843333</td>\n",
              "      <td>3.057333</td>\n",
              "      <td>3.758000</td>\n",
              "      <td>1.199333</td>\n",
              "    </tr>\n",
              "    <tr>\n",
              "      <th>std</th>\n",
              "      <td>43.445368</td>\n",
              "      <td>0.828066</td>\n",
              "      <td>0.435866</td>\n",
              "      <td>1.765298</td>\n",
              "      <td>0.762238</td>\n",
              "    </tr>\n",
              "    <tr>\n",
              "      <th>min</th>\n",
              "      <td>1.000000</td>\n",
              "      <td>4.300000</td>\n",
              "      <td>2.000000</td>\n",
              "      <td>1.000000</td>\n",
              "      <td>0.100000</td>\n",
              "    </tr>\n",
              "    <tr>\n",
              "      <th>25%</th>\n",
              "      <td>38.250000</td>\n",
              "      <td>5.100000</td>\n",
              "      <td>2.800000</td>\n",
              "      <td>1.600000</td>\n",
              "      <td>0.300000</td>\n",
              "    </tr>\n",
              "    <tr>\n",
              "      <th>50%</th>\n",
              "      <td>75.500000</td>\n",
              "      <td>5.800000</td>\n",
              "      <td>3.000000</td>\n",
              "      <td>4.350000</td>\n",
              "      <td>1.300000</td>\n",
              "    </tr>\n",
              "    <tr>\n",
              "      <th>75%</th>\n",
              "      <td>112.750000</td>\n",
              "      <td>6.400000</td>\n",
              "      <td>3.300000</td>\n",
              "      <td>5.100000</td>\n",
              "      <td>1.800000</td>\n",
              "    </tr>\n",
              "    <tr>\n",
              "      <th>max</th>\n",
              "      <td>150.000000</td>\n",
              "      <td>7.900000</td>\n",
              "      <td>4.400000</td>\n",
              "      <td>6.900000</td>\n",
              "      <td>2.500000</td>\n",
              "    </tr>\n",
              "  </tbody>\n",
              "</table>\n",
              "</div>"
            ],
            "text/plain": [
              "           caseno  SepalLength  SepalWidth  PetalLength  PetalWidth\n",
              "count  150.000000   150.000000  150.000000   150.000000  150.000000\n",
              "mean    75.500000     5.843333    3.057333     3.758000    1.199333\n",
              "std     43.445368     0.828066    0.435866     1.765298    0.762238\n",
              "min      1.000000     4.300000    2.000000     1.000000    0.100000\n",
              "25%     38.250000     5.100000    2.800000     1.600000    0.300000\n",
              "50%     75.500000     5.800000    3.000000     4.350000    1.300000\n",
              "75%    112.750000     6.400000    3.300000     5.100000    1.800000\n",
              "max    150.000000     7.900000    4.400000     6.900000    2.500000"
            ]
          },
          "metadata": {
            "tags": []
          },
          "execution_count": 25
        }
      ]
    },
    {
      "cell_type": "code",
      "metadata": {
        "colab": {
          "base_uri": "https://localhost:8080/"
        },
        "id": "sGjEyhXKPnn3",
        "outputId": "f6f6e497-4258-410e-e90d-534b2b495653"
      },
      "source": [
        "print(iris['Species'])"
      ],
      "execution_count": null,
      "outputs": [
        {
          "output_type": "stream",
          "text": [
            "0         setosa\n",
            "1         setosa\n",
            "2         setosa\n",
            "3         setosa\n",
            "4         setosa\n",
            "         ...    \n",
            "145    virginica\n",
            "146    virginica\n",
            "147    virginica\n",
            "148    virginica\n",
            "149    virginica\n",
            "Name: Species, Length: 150, dtype: object\n"
          ],
          "name": "stdout"
        }
      ]
    },
    {
      "cell_type": "code",
      "metadata": {
        "colab": {
          "base_uri": "https://localhost:8080/"
        },
        "id": "JPcj8lc4P8eX",
        "outputId": "42ea57ff-80b4-4d83-91f2-00eb5e23d965"
      },
      "source": [
        "print(np.unique(iris['Species']))"
      ],
      "execution_count": null,
      "outputs": [
        {
          "output_type": "stream",
          "text": [
            "['setosa' 'versicolor' 'virginica']\n"
          ],
          "name": "stdout"
        }
      ]
    },
    {
      "cell_type": "markdown",
      "metadata": {
        "id": "zzpGF5HbRSGg"
      },
      "source": [
        "Date 와 Target분리"
      ]
    },
    {
      "cell_type": "code",
      "metadata": {
        "colab": {
          "base_uri": "https://localhost:8080/"
        },
        "id": "fqDujNu4RGEr",
        "outputId": "18b2f0f7-9121-45e2-8b31-6d6bd3cee422"
      },
      "source": [
        "iris_input = iris[['SepalWidth', 'SepalLength', 'PetalWidth','PetalLength']] #4개의 값을 list로 출력\n",
        "\n",
        "print(iris_input) #이것도 데이터 프레임 (판다스에서 받아온 데이터를 받아오기때문에)"
      ],
      "execution_count": null,
      "outputs": [
        {
          "output_type": "stream",
          "text": [
            "     SepalWidth  SepalLength  PetalWidth  PetalLength\n",
            "0           3.5          5.1         0.2          1.4\n",
            "1           3.0          4.9         0.2          1.4\n",
            "2           3.2          4.7         0.2          1.3\n",
            "3           3.1          4.6         0.2          1.5\n",
            "4           3.6          5.0         0.2          1.4\n",
            "..          ...          ...         ...          ...\n",
            "145         3.0          6.7         2.3          5.2\n",
            "146         2.5          6.3         1.9          5.0\n",
            "147         3.0          6.5         2.0          5.2\n",
            "148         3.4          6.2         2.3          5.4\n",
            "149         3.0          5.9         1.8          5.1\n",
            "\n",
            "[150 rows x 4 columns]\n"
          ],
          "name": "stdout"
        }
      ]
    },
    {
      "cell_type": "code",
      "metadata": {
        "colab": {
          "base_uri": "https://localhost:8080/"
        },
        "id": "WcOZ9YtWRxdk",
        "outputId": "bd519819-08a2-4c28-8957-c82fd049695f"
      },
      "source": [
        "iris_target = iris['Species'] #하나의 값만 출력\n",
        "print(iris_target)"
      ],
      "execution_count": null,
      "outputs": [
        {
          "output_type": "stream",
          "text": [
            "0         setosa\n",
            "1         setosa\n",
            "2         setosa\n",
            "3         setosa\n",
            "4         setosa\n",
            "         ...    \n",
            "145    virginica\n",
            "146    virginica\n",
            "147    virginica\n",
            "148    virginica\n",
            "149    virginica\n",
            "Name: Species, Length: 150, dtype: object\n"
          ],
          "name": "stdout"
        }
      ]
    },
    {
      "cell_type": "markdown",
      "metadata": {
        "id": "_pyZZGe4M_Pw"
      },
      "source": [
        "Date 와 Target분리\n",
        "Dateframe을 Numpy ndarray로 변환"
      ]
    },
    {
      "cell_type": "code",
      "metadata": {
        "colab": {
          "base_uri": "https://localhost:8080/"
        },
        "id": "A6A_FCmjTrfH",
        "outputId": "d9f4c96b-4e33-4aaa-f91e-3c1ae0d43c38"
      },
      "source": [
        "iris_input = iris_input.to_numpy()\n",
        "print(iris_input) # 넘파이는 행열처럼 생김 4행 150열 배열로보면 2차배열 [[]] "
      ],
      "execution_count": null,
      "outputs": [
        {
          "output_type": "stream",
          "text": [
            "[[3.5 5.1 0.2 1.4]\n",
            " [3.  4.9 0.2 1.4]\n",
            " [3.2 4.7 0.2 1.3]\n",
            " [3.1 4.6 0.2 1.5]\n",
            " [3.6 5.  0.2 1.4]\n",
            " [3.9 5.4 0.4 1.7]\n",
            " [3.4 4.6 0.3 1.4]\n",
            " [3.4 5.  0.2 1.5]\n",
            " [2.9 4.4 0.2 1.4]\n",
            " [3.1 4.9 0.1 1.5]\n",
            " [3.7 5.4 0.2 1.5]\n",
            " [3.4 4.8 0.2 1.6]\n",
            " [3.  4.8 0.1 1.4]\n",
            " [3.  4.3 0.1 1.1]\n",
            " [4.  5.8 0.2 1.2]\n",
            " [4.4 5.7 0.4 1.5]\n",
            " [3.9 5.4 0.4 1.3]\n",
            " [3.5 5.1 0.3 1.4]\n",
            " [3.8 5.7 0.3 1.7]\n",
            " [3.8 5.1 0.3 1.5]\n",
            " [3.4 5.4 0.2 1.7]\n",
            " [3.7 5.1 0.4 1.5]\n",
            " [3.6 4.6 0.2 1. ]\n",
            " [3.3 5.1 0.5 1.7]\n",
            " [3.4 4.8 0.2 1.9]\n",
            " [3.  5.  0.2 1.6]\n",
            " [3.4 5.  0.4 1.6]\n",
            " [3.5 5.2 0.2 1.5]\n",
            " [3.4 5.2 0.2 1.4]\n",
            " [3.2 4.7 0.2 1.6]\n",
            " [3.1 4.8 0.2 1.6]\n",
            " [3.4 5.4 0.4 1.5]\n",
            " [4.1 5.2 0.1 1.5]\n",
            " [4.2 5.5 0.2 1.4]\n",
            " [3.1 4.9 0.2 1.5]\n",
            " [3.2 5.  0.2 1.2]\n",
            " [3.5 5.5 0.2 1.3]\n",
            " [3.6 4.9 0.1 1.4]\n",
            " [3.  4.4 0.2 1.3]\n",
            " [3.4 5.1 0.2 1.5]\n",
            " [3.5 5.  0.3 1.3]\n",
            " [2.3 4.5 0.3 1.3]\n",
            " [3.2 4.4 0.2 1.3]\n",
            " [3.5 5.  0.6 1.6]\n",
            " [3.8 5.1 0.4 1.9]\n",
            " [3.  4.8 0.3 1.4]\n",
            " [3.8 5.1 0.2 1.6]\n",
            " [3.2 4.6 0.2 1.4]\n",
            " [3.7 5.3 0.2 1.5]\n",
            " [3.3 5.  0.2 1.4]\n",
            " [3.2 7.  1.4 4.7]\n",
            " [3.2 6.4 1.5 4.5]\n",
            " [3.1 6.9 1.5 4.9]\n",
            " [2.3 5.5 1.3 4. ]\n",
            " [2.8 6.5 1.5 4.6]\n",
            " [2.8 5.7 1.3 4.5]\n",
            " [3.3 6.3 1.6 4.7]\n",
            " [2.4 4.9 1.  3.3]\n",
            " [2.9 6.6 1.3 4.6]\n",
            " [2.7 5.2 1.4 3.9]\n",
            " [2.  5.  1.  3.5]\n",
            " [3.  5.9 1.5 4.2]\n",
            " [2.2 6.  1.  4. ]\n",
            " [2.9 6.1 1.4 4.7]\n",
            " [2.9 5.6 1.3 3.6]\n",
            " [3.1 6.7 1.4 4.4]\n",
            " [3.  5.6 1.5 4.5]\n",
            " [2.7 5.8 1.  4.1]\n",
            " [2.2 6.2 1.5 4.5]\n",
            " [2.5 5.6 1.1 3.9]\n",
            " [3.2 5.9 1.8 4.8]\n",
            " [2.8 6.1 1.3 4. ]\n",
            " [2.5 6.3 1.5 4.9]\n",
            " [2.8 6.1 1.2 4.7]\n",
            " [2.9 6.4 1.3 4.3]\n",
            " [3.  6.6 1.4 4.4]\n",
            " [2.8 6.8 1.4 4.8]\n",
            " [3.  6.7 1.7 5. ]\n",
            " [2.9 6.  1.5 4.5]\n",
            " [2.6 5.7 1.  3.5]\n",
            " [2.4 5.5 1.1 3.8]\n",
            " [2.4 5.5 1.  3.7]\n",
            " [2.7 5.8 1.2 3.9]\n",
            " [2.7 6.  1.6 5.1]\n",
            " [3.  5.4 1.5 4.5]\n",
            " [3.4 6.  1.6 4.5]\n",
            " [3.1 6.7 1.5 4.7]\n",
            " [2.3 6.3 1.3 4.4]\n",
            " [3.  5.6 1.3 4.1]\n",
            " [2.5 5.5 1.3 4. ]\n",
            " [2.6 5.5 1.2 4.4]\n",
            " [3.  6.1 1.4 4.6]\n",
            " [2.6 5.8 1.2 4. ]\n",
            " [2.3 5.  1.  3.3]\n",
            " [2.7 5.6 1.3 4.2]\n",
            " [3.  5.7 1.2 4.2]\n",
            " [2.9 5.7 1.3 4.2]\n",
            " [2.9 6.2 1.3 4.3]\n",
            " [2.5 5.1 1.1 3. ]\n",
            " [2.8 5.7 1.3 4.1]\n",
            " [3.3 6.3 2.5 6. ]\n",
            " [2.7 5.8 1.9 5.1]\n",
            " [3.  7.1 2.1 5.9]\n",
            " [2.9 6.3 1.8 5.6]\n",
            " [3.  6.5 2.2 5.8]\n",
            " [3.  7.6 2.1 6.6]\n",
            " [2.5 4.9 1.7 4.5]\n",
            " [2.9 7.3 1.8 6.3]\n",
            " [2.5 6.7 1.8 5.8]\n",
            " [3.6 7.2 2.5 6.1]\n",
            " [3.2 6.5 2.  5.1]\n",
            " [2.7 6.4 1.9 5.3]\n",
            " [3.  6.8 2.1 5.5]\n",
            " [2.5 5.7 2.  5. ]\n",
            " [2.8 5.8 2.4 5.1]\n",
            " [3.2 6.4 2.3 5.3]\n",
            " [3.  6.5 1.8 5.5]\n",
            " [3.8 7.7 2.2 6.7]\n",
            " [2.6 7.7 2.3 6.9]\n",
            " [2.2 6.  1.5 5. ]\n",
            " [3.2 6.9 2.3 5.7]\n",
            " [2.8 5.6 2.  4.9]\n",
            " [2.8 7.7 2.  6.7]\n",
            " [2.7 6.3 1.8 4.9]\n",
            " [3.3 6.7 2.1 5.7]\n",
            " [3.2 7.2 1.8 6. ]\n",
            " [2.8 6.2 1.8 4.8]\n",
            " [3.  6.1 1.8 4.9]\n",
            " [2.8 6.4 2.1 5.6]\n",
            " [3.  7.2 1.6 5.8]\n",
            " [2.8 7.4 1.9 6.1]\n",
            " [3.8 7.9 2.  6.4]\n",
            " [2.8 6.4 2.2 5.6]\n",
            " [2.8 6.3 1.5 5.1]\n",
            " [2.6 6.1 1.4 5.6]\n",
            " [3.  7.7 2.3 6.1]\n",
            " [3.4 6.3 2.4 5.6]\n",
            " [3.1 6.4 1.8 5.5]\n",
            " [3.  6.  1.8 4.8]\n",
            " [3.1 6.9 2.1 5.4]\n",
            " [3.1 6.7 2.4 5.6]\n",
            " [3.1 6.9 2.3 5.1]\n",
            " [2.7 5.8 1.9 5.1]\n",
            " [3.2 6.8 2.3 5.9]\n",
            " [3.3 6.7 2.5 5.7]\n",
            " [3.  6.7 2.3 5.2]\n",
            " [2.5 6.3 1.9 5. ]\n",
            " [3.  6.5 2.  5.2]\n",
            " [3.4 6.2 2.3 5.4]\n",
            " [3.  5.9 1.8 5.1]]\n"
          ],
          "name": "stdout"
        }
      ]
    },
    {
      "cell_type": "code",
      "metadata": {
        "colab": {
          "base_uri": "https://localhost:8080/"
        },
        "id": "6mM7ECi1Usf6",
        "outputId": "a1d06096-a98e-488a-85a1-53558b7a4a27"
      },
      "source": [
        "iris_target = iris_target.to_numpy()\n",
        "print(iris_target)"
      ],
      "execution_count": null,
      "outputs": [
        {
          "output_type": "stream",
          "text": [
            "['setosa' 'setosa' 'setosa' 'setosa' 'setosa' 'setosa' 'setosa' 'setosa'\n",
            " 'setosa' 'setosa' 'setosa' 'setosa' 'setosa' 'setosa' 'setosa' 'setosa'\n",
            " 'setosa' 'setosa' 'setosa' 'setosa' 'setosa' 'setosa' 'setosa' 'setosa'\n",
            " 'setosa' 'setosa' 'setosa' 'setosa' 'setosa' 'setosa' 'setosa' 'setosa'\n",
            " 'setosa' 'setosa' 'setosa' 'setosa' 'setosa' 'setosa' 'setosa' 'setosa'\n",
            " 'setosa' 'setosa' 'setosa' 'setosa' 'setosa' 'setosa' 'setosa' 'setosa'\n",
            " 'setosa' 'setosa' 'versicolor' 'versicolor' 'versicolor' 'versicolor'\n",
            " 'versicolor' 'versicolor' 'versicolor' 'versicolor' 'versicolor'\n",
            " 'versicolor' 'versicolor' 'versicolor' 'versicolor' 'versicolor'\n",
            " 'versicolor' 'versicolor' 'versicolor' 'versicolor' 'versicolor'\n",
            " 'versicolor' 'versicolor' 'versicolor' 'versicolor' 'versicolor'\n",
            " 'versicolor' 'versicolor' 'versicolor' 'versicolor' 'versicolor'\n",
            " 'versicolor' 'versicolor' 'versicolor' 'versicolor' 'versicolor'\n",
            " 'versicolor' 'versicolor' 'versicolor' 'versicolor' 'versicolor'\n",
            " 'versicolor' 'versicolor' 'versicolor' 'versicolor' 'versicolor'\n",
            " 'versicolor' 'versicolor' 'versicolor' 'versicolor' 'versicolor'\n",
            " 'versicolor' 'virginica' 'virginica' 'virginica' 'virginica' 'virginica'\n",
            " 'virginica' 'virginica' 'virginica' 'virginica' 'virginica' 'virginica'\n",
            " 'virginica' 'virginica' 'virginica' 'virginica' 'virginica' 'virginica'\n",
            " 'virginica' 'virginica' 'virginica' 'virginica' 'virginica' 'virginica'\n",
            " 'virginica' 'virginica' 'virginica' 'virginica' 'virginica' 'virginica'\n",
            " 'virginica' 'virginica' 'virginica' 'virginica' 'virginica' 'virginica'\n",
            " 'virginica' 'virginica' 'virginica' 'virginica' 'virginica' 'virginica'\n",
            " 'virginica' 'virginica' 'virginica' 'virginica' 'virginica' 'virginica'\n",
            " 'virginica' 'virginica' 'virginica']\n"
          ],
          "name": "stdout"
        }
      ]
    },
    {
      "cell_type": "code",
      "metadata": {
        "colab": {
          "base_uri": "https://localhost:8080/"
        },
        "id": "l3TeTSoeVVNj",
        "outputId": "9fb5c28f-d75a-478d-9185-ab0470002d1d"
      },
      "source": [
        "print(iris_input.shape, iris_target.shape)"
      ],
      "execution_count": null,
      "outputs": [
        {
          "output_type": "stream",
          "text": [
            "(150, 4) (150,)\n"
          ],
          "name": "stdout"
        }
      ]
    },
    {
      "cell_type": "code",
      "metadata": {
        "id": "s304nTtYXAw3"
      },
      "source": [
        "from sklearn.model_selection import train_test_split"
      ],
      "execution_count": null,
      "outputs": []
    },
    {
      "cell_type": "code",
      "metadata": {
        "id": "Wzz0npLUXhOJ"
      },
      "source": [
        "train_input, test_input, train_target, test_target = \\ # \\줄바꿈할때 연결되어있다는 의미 트레이닝(학습)용 테스트용으로 분류\n",
        "  train_test_split(iris_input, iris_target,test_size=0.2, random_state=21) #섞기위해서 랜덤사용해야함ramdom_state"
      ],
      "execution_count": null,
      "outputs": []
    },
    {
      "cell_type": "code",
      "metadata": {
        "colab": {
          "base_uri": "https://localhost:8080/"
        },
        "id": "rQF_4tj2ZLIn",
        "outputId": "958c5f69-bdb6-4dae-fc59-a19feadb2305"
      },
      "source": [
        "print(train_input.shape, train_target.shape)"
      ],
      "execution_count": null,
      "outputs": [
        {
          "output_type": "stream",
          "text": [
            "(120, 4) (120,)\n"
          ],
          "name": "stdout"
        }
      ]
    },
    {
      "cell_type": "code",
      "metadata": {
        "colab": {
          "base_uri": "https://localhost:8080/"
        },
        "id": "f-59R-0hZeuM",
        "outputId": "271a17f2-1882-4f22-8e4c-df23d6bc804e"
      },
      "source": [
        "print(test_input.shape, test_target.shape)"
      ],
      "execution_count": null,
      "outputs": [
        {
          "output_type": "stream",
          "text": [
            "(30, 4) (30,)\n"
          ],
          "name": "stdout"
        }
      ]
    },
    {
      "cell_type": "code",
      "metadata": {
        "id": "Xcv-f-i4NMMh"
      },
      "source": [
        "from sklearn.preprocessing import StandardScaler"
      ],
      "execution_count": null,
      "outputs": []
    },
    {
      "cell_type": "code",
      "metadata": {
        "id": "1x_UcY7PbZmW"
      },
      "source": [
        "ss = StandardScaler() # 표준편자 구하는거\n",
        "ss.fit(train_input) # 표준편자 얼마인지 계산해주는거 fit \n",
        "train_scaled = ss.transform(train_input) # 실제로 데이터를 변환해주는 scaled\n",
        "test_scaled = ss.transform(test_input)"
      ],
      "execution_count": null,
      "outputs": []
    },
    {
      "cell_type": "code",
      "metadata": {
        "colab": {
          "base_uri": "https://localhost:8080/"
        },
        "id": "Ve9tOEpscD9f",
        "outputId": "986e6992-78fe-4470-b222-a4ac66b5ec7c"
      },
      "source": [
        "print(train_scaled) #값을 표준화함"
      ],
      "execution_count": null,
      "outputs": [
        {
          "output_type": "stream",
          "text": [
            "[[-1.80610292 -1.61401413 -1.19487306 -1.41372184]\n",
            " [ 1.77822482  2.3988912   0.99716025  1.45402018]\n",
            " [ 0.34449372  0.03835865  0.73927398  0.55433641]\n",
            " [ 1.77822482 -0.90585436 -1.3238162  -1.24503114]\n",
            " [-0.61132701  0.39243854  0.73927398  0.55433641]\n",
            " [-0.61132701  0.74651842  0.35244457  0.44187594]\n",
            " [ 0.82240409  0.15638528  0.48138771  0.3856457 ]\n",
            " [-0.61132701 -0.07966797  1.5129328   0.72302711]\n",
            " [-0.13341664 -1.73204075 -1.3238162  -1.41372184]\n",
            " [-0.85028219 -0.07966797  0.86821712  0.72302711]\n",
            " [-0.13341664  0.03835865  0.73927398  0.72302711]\n",
            " [ 0.82240409  0.51046516  1.5129328   1.00417829]\n",
            " [-1.32819256 -0.1976946   0.99716025  0.66679688]\n",
            " [-0.37237183  0.39243854  0.0945583   0.27318523]\n",
            " [ 0.10553854  1.21862493  1.38398966  0.72302711]\n",
            " [ 1.06135927 -0.43374785 -1.3238162  -1.41372184]\n",
            " [ 1.30031445 -1.14190762 -1.45275934 -1.35749161]\n",
            " [-0.13341664 -1.85006738 -1.45275934 -1.52618231]\n",
            " [-2.0450581   0.39243854  0.35244457  0.3856457 ]\n",
            " [ 0.82240409 -1.25993425 -1.3238162  -1.24503114]\n",
            " [ 0.10553854  1.21862493  0.35244457  0.61056664]\n",
            " [ 0.5834489  -1.02388099 -1.3238162  -1.35749161]\n",
            " [ 0.10553854  0.98257167  0.22350144  0.32941546]\n",
            " [-1.08923737  2.16283794  1.38398966  1.73517136]\n",
            " [-0.61132701 -0.1976946   0.0945583   0.3856457 ]\n",
            " [-0.85028219 -0.07966797 -0.29227111  0.16072476]\n",
            " [ 0.10553854 -1.4959875  -1.3238162  -1.30126137]\n",
            " [ 1.06135927 -0.90585436 -1.19487306 -1.35749161]\n",
            " [-0.13341664  2.16283794  1.38398966  1.28532947]\n",
            " [ 0.34449372 -1.37796087 -1.3238162  -1.24503114]\n",
            " [ 1.53926963 -0.55177448 -1.3238162  -1.30126137]\n",
            " [ 1.30031445 -1.4959875  -1.3238162  -1.58241255]\n",
            " [ 0.34449372 -1.37796087 -1.3238162  -1.41372184]\n",
            " [ 0.82240409 -0.55177448 -1.06592993 -1.30126137]\n",
            " [-0.37237183 -0.1976946   0.0945583   0.21695499]\n",
            " [-1.32819256 -0.43374785  0.0945583   0.10449452]\n",
            " [ 1.06135927 -0.78782774 -1.3238162  -1.30126137]\n",
            " [-1.32819256  0.98257167  0.73927398  1.11663876]\n",
            " [ 0.34449372  0.62849179  0.35244457  0.3856457 ]\n",
            " [-0.13341664 -1.14190762 -1.3238162  -1.35749161]\n",
            " [ 2.01718    -0.55177448 -1.06592993 -1.41372184]\n",
            " [-1.32819256 -1.14190762  0.61033085  0.3856457 ]\n",
            " [ 0.10553854  0.98257167  0.35244457  0.49810617]\n",
            " [ 0.10553854 -1.14190762 -1.3238162  -1.30126137]\n",
            " [-0.13341664  0.74651842  1.25504653  1.11663876]\n",
            " [-1.80610292 -1.02388099 -0.29227111 -0.28911713]\n",
            " [-1.08923737  0.27441191  0.22350144  1.00417829]\n",
            " [ 1.06135927 -1.02388099 -0.80804365 -1.24503114]\n",
            " [-0.85028219  0.62849179  0.86821712  0.83548759]\n",
            " [ 0.82240409 -0.90585436 -1.3238162  -1.30126137]\n",
            " [ 0.34449372 -1.4959875  -1.3238162  -1.35749161]\n",
            " [-0.37237183  0.15638528  0.35244457  0.3856457 ]\n",
            " [-0.13341664  0.74651842  0.73927398  0.94794806]\n",
            " [-0.37237183 -0.31572123  0.0945583  -0.12042642]\n",
            " [-0.85028219 -0.31572123  0.0945583   0.21695499]\n",
            " [ 0.82240409 -1.25993425 -1.3238162  -1.07634043]\n",
            " [-0.61132701  0.62849179  1.25504653  1.00417829]\n",
            " [-0.37237183  0.86454504  0.0945583   0.44187594]\n",
            " [-0.37237183 -1.73204075 -1.3238162  -1.35749161]\n",
            " [-0.13341664  0.27441191  0.73927398  0.61056664]\n",
            " [-0.61132701  0.27441191  0.0945583   0.10449452]\n",
            " [-0.13341664 -0.31572123  0.35244457  0.3856457 ]\n",
            " [-0.61132701  1.80875806  0.86821712  1.28532947]\n",
            " [-1.08923737 -0.1976946  -0.29227111 -0.17665666]\n",
            " [-0.13341664  2.04481132  1.12610339  1.56648065]\n",
            " [-0.37237183  0.27441191  0.22350144  0.49810617]\n",
            " [ 0.5834489   0.98257167  1.64187594  1.06040853]\n",
            " [ 0.34449372  0.62849179  1.38398966  0.83548759]\n",
            " [ 2.49509036 -0.78782774 -1.45275934 -1.30126137]\n",
            " [-0.13341664 -1.02388099 -1.3238162  -1.24503114]\n",
            " [-0.37237183  0.51046516  0.73927398  1.00417829]\n",
            " [-0.13341664  1.45467818  1.12610339  1.172869  ]\n",
            " [ 0.10553854 -1.25993425 -1.3238162  -1.24503114]\n",
            " [-0.61132701  1.1005983   0.22350144  0.55433641]\n",
            " [ 0.82240409  0.39243854  1.38398966  0.89171782]\n",
            " [-0.61132701 -0.1976946   0.0945583   0.16072476]\n",
            " [-1.56714774 -1.14190762 -0.29227111 -0.28911713]\n",
            " [-0.37237183  1.69073143  0.73927398  1.39778994]\n",
            " [-1.32819256 -0.31572123 -0.16332797  0.04826429]\n",
            " [-0.13341664  1.57270481  0.48138771  1.11663876]\n",
            " [ 1.06135927 -0.90585436 -1.3238162  -1.35749161]\n",
            " [ 1.30031445  1.57270481  1.64187594  1.28532947]\n",
            " [-0.61132701  0.62849179  1.12610339  1.00417829]\n",
            " [ 0.10553854 -1.14190762 -1.45275934 -1.30126137]\n",
            " [ 0.82240409 -0.78782774 -1.3238162  -1.35749161]\n",
            " [-1.08923737 -0.43374785 -0.03438484  0.32941546]\n",
            " [ 0.10553854  0.62849179  0.73927398  0.94794806]\n",
            " [ 0.82240409 -1.4959875  -1.19487306 -1.35749161]\n",
            " [ 3.21195591 -0.1976946  -1.06592993 -1.30126137]\n",
            " [-0.85028219 -0.07966797 -0.03438484  0.04826429]\n",
            " [ 0.34449372  1.57270481  0.73927398  1.22909924]\n",
            " [-0.13341664 -1.25993425 -1.45275934 -1.35749161]\n",
            " [ 2.73404555 -0.43374785 -1.3238162  -1.35749161]\n",
            " [-0.13341664  0.27441191  0.22350144  0.44187594]\n",
            " [-0.13341664  0.98257167  1.38398966  0.77925735]\n",
            " [-1.32819256  0.51046516  0.86821712  0.66679688]\n",
            " [ 0.34449372 -1.02388099 -1.3238162  -1.46995208]\n",
            " [ 0.10553854  0.98257167  1.5129328   1.00417829]\n",
            " [-1.56714774 -0.43374785 -0.16332797 -0.00796595]\n",
            " [ 2.01718    -0.55177448 -1.06592993 -1.1888009 ]\n",
            " [-1.80610292 -0.43374785  0.0945583   0.10449452]\n",
            " [ 0.10553854  1.21862493  1.12610339  0.89171782]\n",
            " [ 0.34449372  1.33665155  0.22350144  0.49810617]\n",
            " [ 1.77822482 -0.1976946  -1.19487306 -1.1888009 ]\n",
            " [-0.61132701  0.51046516  0.35244457  0.72302711]\n",
            " [-2.0450581   0.15638528  0.35244457  0.66679688]\n",
            " [-0.85028219 -0.78782774  0.22350144  0.04826429]\n",
            " [-0.13341664 -0.55177448  0.35244457  0.3856457 ]\n",
            " [ 0.5834489   0.51046516  1.64187594  1.22909924]\n",
            " [-0.13341664  0.74651842  0.99716025  0.77925735]\n",
            " [-0.61132701  2.16283794  0.99716025  1.62271089]\n",
            " [-0.13341664  0.03835865  0.35244457  0.21695499]\n",
            " [ 0.34449372  0.74651842  0.99716025  0.72302711]\n",
            " [-1.32819256  0.51046516  0.35244457  0.61056664]\n",
            " [-1.32819256 -0.90585436 -0.16332797 -0.45780784]\n",
            " [ 0.34449372  1.21862493  1.38398966  1.06040853]\n",
            " [-0.13341664  1.1005983   1.12610339  0.94794806]\n",
            " [ 1.53926963 -0.66980111 -1.3238162  -1.30126137]\n",
            " [ 1.30031445 -1.02388099 -1.3238162  -1.35749161]\n",
            " [ 0.5834489   0.51046516  0.48138771  0.49810617]]\n"
          ],
          "name": "stdout"
        }
      ]
    },
    {
      "cell_type": "markdown",
      "metadata": {
        "id": "uCixdHw-TZpV"
      },
      "source": [
        "k-최근접 이웃 다중분류\n",
        "(학습용과 테스트용 분류)"
      ]
    },
    {
      "cell_type": "code",
      "metadata": {
        "id": "RGSFTqLqSpNh"
      },
      "source": [
        "from sklearn.neighbors import KNeighborsClassifier "
      ],
      "execution_count": null,
      "outputs": []
    }
  ]
}